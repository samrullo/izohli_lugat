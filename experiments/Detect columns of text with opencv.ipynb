{
 "cells": [
  {
   "cell_type": "code",
   "execution_count": 10,
   "id": "860e0826",
   "metadata": {},
   "outputs": [],
   "source": [
    "import pathlib\n",
    "import os\n",
    "import cv2\n",
    "from PIL import Image\n",
    "import matplotlib.pyplot as plt"
   ]
  },
  {
   "cell_type": "code",
   "execution_count": 12,
   "id": "f89c3e9b",
   "metadata": {},
   "outputs": [],
   "source": [
    "folder = pathlib.Path(r\"C:\\Users\\amrul\\programming\\datasets\\uzbek_nlp_dataset\\izohli_lugat\")\n",
    "img_file=\"t_harfi_ikki.jpg\"\n",
    "receipt_file = folder/img_file"
   ]
  },
  {
   "cell_type": "code",
   "execution_count": 13,
   "id": "9ef2c1f5",
   "metadata": {},
   "outputs": [
    {
     "name": "stdout",
     "output_type": "stream",
     "text": [
      "contour with maximum area : 534,261.0\n",
      "Bounding rectangle parameters of C:\\Users\\amrul\\programming\\datasets\\uzbek_nlp_dataset\\izohli_lugat\\t_harfi_ikki.jpg  x : 0, y : 0, w : 722, h : 742\n"
     ]
    }
   ],
   "source": [
    "# convert image to grayscale\n",
    "img_gray=cv2.imread(str(receipt_file), cv2.IMREAD_GRAYSCALE)\n",
    "\n",
    "# apply thresholding to the image \n",
    "thresh_val_used, thresh_img = cv2.threshold(img_gray, 0, 255, cv2.THRESH_BINARY + cv2.THRESH_OTSU)\n",
    "\n",
    "# extract rectangular contours from the image\n",
    "contours,hierarchy = cv2.findContours(thresh_img, cv2.RETR_EXTERNAL, cv2.CHAIN_APPROX_SIMPLE)\n",
    "\n",
    "# save countour areas into a list, to find the countour with the biggest area later\n",
    "contr_areas=[cv2.contourArea(contr) for contr in contours]\n",
    "\n",
    "# the index of the biggest countour area, which is used to access the contour with the biggest area\n",
    "contr_area_max_idx = contr_areas.index(max(contr_areas))\n",
    "print(f\"contour with maximum area : {contr_areas[contr_area_max_idx]:,}\")\n",
    "biggest_contr=contours[contr_area_max_idx]    \n",
    "\n",
    "# get bounding rectangle parameters (top left x,y coordinates with width and height)\n",
    "br_x,br_y,br_w,br_h = cv2.boundingRect(biggest_contr)\n",
    "print(f\"Bounding rectangle parameters of {receipt_file}  x : {br_x}, y : {br_y}, w : {br_w}, h : {br_h}\")\n"
   ]
  },
  {
   "cell_type": "code",
   "execution_count": 14,
   "id": "7c7f9e21",
   "metadata": {},
   "outputs": [
    {
     "data": {
      "text/plain": [
       "[534261.0]"
      ]
     },
     "execution_count": 14,
     "metadata": {},
     "output_type": "execute_result"
    }
   ],
   "source": [
    "contr_areas"
   ]
  }
 ],
 "metadata": {
  "kernelspec": {
   "display_name": "Python 3 (ipykernel)",
   "language": "python",
   "name": "python3"
  },
  "language_info": {
   "codemirror_mode": {
    "name": "ipython",
    "version": 3
   },
   "file_extension": ".py",
   "mimetype": "text/x-python",
   "name": "python",
   "nbconvert_exporter": "python",
   "pygments_lexer": "ipython3",
   "version": "3.9.7"
  }
 },
 "nbformat": 4,
 "nbformat_minor": 5
}
